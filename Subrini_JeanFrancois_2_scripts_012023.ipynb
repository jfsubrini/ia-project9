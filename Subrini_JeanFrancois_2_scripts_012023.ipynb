{
 "cells": [
  {
   "cell_type": "markdown",
   "id": "093ec1e3",
   "metadata": {},
   "source": [
    "<div class=\"alert alert-block alert-success\">\n",
    "<h1><b>PROJET 9 - </b>Réalisez une application de recommandation de contenu</h1>\n",
    "<h2>Notebook Scripts</h2></div>"
   ]
  },
  {
   "cell_type": "markdown",
   "id": "d46da1e0",
   "metadata": {},
   "source": [
    "<img src=\"my_content.png\" width=\"250\" height=\"250\">"
   ]
  },
  {
   "cell_type": "markdown",
   "id": "adb8319f",
   "metadata": {},
   "source": [
    "## Table of Contents<hr>\n",
    "[INTRODUCTION & PRESENTATION](#section_0)<br>\n",
    "[A - IMPORTATIONS](#section_0A)<br>\n",
    "[B - DATA COLLECTION & DESCRIPTION - EDA](#section_0B)<br>\n",
    "[C - PERFORMANCE METRICS](#section_0C)<br>\n",
    "&emsp;[1 - Intersection over Union (IoU)](#section_0C1)<br>\n",
    "&emsp;[2 - Dice Coefficient](#section_0C2)<br>\n",
    "&emsp;[3 - Performance metrics calculation function](#section_0C3)<br>\n",
    "&emsp;[4 - Loss function](#section_0C4)<br><hr>\n",
    "[PART 1 - DATA PREPARATION](#section_1)<br>\n",
    "[A - DATA AUGMENTATION](#section_1A)<br>\n",
    "&emsp;[1 - Some imgaug techniques](#section_1A1)<br>\n",
    "&emsp;[2 - imgaug augmentation pipeline](#section_1A2)<br>\n",
    "&emsp;[3 - Images and masks augmentation](#section_1A3)<br>\n",
    "[B - DATA GENERATOR](#section_1B)<br>\n",
    "[C - FINAL DATASETS FOR MODELLING](#section_1C)<br><hr>\n",
    "[PART 2 - CONVOLUTIONAL NEURAL NETWORKS MODELS](#section_2)<br>\n",
    "&emsp;[1 - Presentation](#section_21)<br>\n",
    "&emsp;[2 - Utils functions to build the U-NET models](#section_22)<br>\n",
    "&emsp;[3 - Utils functions to visualize the training process](#section_23)<br>\n",
    "[A - U-NET MINI (unet_mini) - BASE MODEL](#section_2A)<br><hr>\n",
    "[CONCLUSION](#section_00)<br>"
   ]
  },
  {
   "cell_type": "markdown",
   "id": "2e88ef17",
   "metadata": {},
   "source": [
    "<h2><div class=\"alert alert-block alert-success\" id=\"section_0\">\n",
    "INTRODUCTION & PRESENTATION</div></h2>"
   ]
  },
  {
   "cell_type": "markdown",
   "id": "b21f96c6",
   "metadata": {},
   "source": [
    "### Our mission"
   ]
  },
  {
   "cell_type": "markdown",
   "id": "15047cfe",
   "metadata": {},
   "source": [
    "My Content est une start-up qui veut encourager la lecture en recommandant des contenus pertinents pour ses utilisateurs."
   ]
  },
  {
   "cell_type": "markdown",
   "id": "faee8d44",
   "metadata": {},
   "source": [
    "Vous êtes le CTO et cofondateur de la start-up avec Samia qui est CEO. Vous êtes en pleine construction d’un premier MVP qui prendra la forme d’une application."
   ]
  },
  {
   "cell_type": "markdown",
   "id": "9f0e6eab",
   "metadata": {},
   "source": [
    "Dans un premier temps, votre start-up souhaite tester une solution de recommandation d’articles et de livres à des particuliers."
   ]
  },
  {
   "cell_type": "markdown",
   "id": "c3c790ed",
   "metadata": {},
   "source": [
    "\"En tant qu’utilisateur de l’application, je vais recevoir une sélection de cinq articles.\""
   ]
  },
  {
   "cell_type": "markdown",
   "id": "9962e3df",
   "metadata": {},
   "source": [
    "### Origin of the datasets"
   ]
  },
  {
   "cell_type": "markdown",
   "id": "5f539a05",
   "metadata": {},
   "source": [
    "Comme vous ne disposez pas à ce jour de données utilisateurs, vous allez utiliser des données disponibles en ligne pour développer votre MVP (en téléchargement direct à ce lien)."
   ]
  },
  {
   "cell_type": "markdown",
   "id": "57b46015",
   "metadata": {},
   "source": [
    "Ces données représentent les interactions des utilisateurs avec les articles disponibles. Elles contiennent des informations sur les articles (par exemple le nombre de mots dans l’article), ainsi que les informations sur les sessions des utilisateurs (par exemple heures de début et de fin) et les interactions des utilisateurs avec les articles (sur quel article l’utilisateur a-t-il cliqué lors de sa session ?)."
   ]
  },
  {
   "cell_type": "markdown",
   "id": "47f211b3",
   "metadata": {},
   "source": [
    "une architecture serverless avec Azure Functions "
   ]
  },
  {
   "cell_type": "markdown",
   "id": "d30b24a8",
   "metadata": {},
   "source": [
    "Dans la première architecture, tu crées une API pour développer puis exposer ton système de recommandation. Pour faire le lien entre l’application et le système de recommandation, tu crées une Azure Function"
   ]
  },
  {
   "cell_type": "markdown",
   "id": "caefb1d0",
   "metadata": {},
   "source": [
    "Dans la deuxième architecture, tu peux te passer de l’API, en exploitant les fonctionnalités “Azure Blob storage input binding” pour récupérer directement les fichiers et modèles, et en intégrant tes prédictions directement dans ton Azure Functions"
   ]
  },
  {
   "cell_type": "markdown",
   "id": "b6c0a9d3",
   "metadata": {},
   "source": [
    "Je te laisse choisir l’architecture que tu mettras en place !"
   ]
  },
  {
   "cell_type": "markdown",
   "id": "97325443",
   "metadata": {},
   "source": [
    "Pour l’application, tu peux créer en local une simple interface qui liste les id des users et affiche les résultats des 5 suggestions d’articles, suite à appel de l’Azure Functions."
   ]
  },
  {
   "cell_type": "markdown",
   "id": "1175300a",
   "metadata": {},
   "source": [
    " fichier “embeddings” : tu peux réaliser une réduction de dimension de ce fichier via une ACP."
   ]
  },
  {
   "cell_type": "markdown",
   "id": "5b02b8ae",
   "metadata": {},
   "source": [
    "Il est conseillé de créer votre Azure Function directement sur le portail Azure, et de choisir le “plan type” égal à “Consomption(serverless)”, afin d’utiliser l’option gratuite de Service Plan"
   ]
  },
  {
   "cell_type": "markdown",
   "id": "55fc68c1",
   "metadata": {},
   "source": [
    "Sélectionner l’architecture logicielle permettant de répondre au besoin métier :<br> \n",
    "    • les différentes briques d’architecture nécessaires pour la réalisation de la solution répondant au besoin métier ont été identifiées.<br>\n",
    "    • la description fonctionnelle de chaque brique d’architecture a été réalisée.<br>\n",
    "    • les besoins de mise à jour des bases de données Utilisateurs et Articles ont été pris en compte dans la description fonctionnelle.<br>\n",
    "    • une explication sous forme de schéma des différentes briques de l’architecture logicielle a été élaborée.<br>\n",
    "    "
   ]
  },
  {
   "cell_type": "markdown",
   "id": "473a1a6b",
   "metadata": {},
   "source": [
    "Concevoir des scripts permettant d’exécuter une chaîne de traitements IA bout-en-bout :<br>\n",
    "• les scripts permettant d’entraîner et de tester le modèle de recommandation ont été développés et testés.<br>\n",
    "• au moins un des algorithmes de chacune des deux approches (CF et content-based) de système de recommandation a été testé.<br>\n",
    "• la fonction serverless renvoyant la prédiction du modèle intégrée à l’application mobile a été testée.<br>\n",
    "• les scripts sont découpés en fonctions et/ou classes permettant une meilleure lisibilité et une meilleure maintenabilité du code.<br>\n",
    "• les scripts sont stockés dans un dossier GitHub."
   ]
  },
  {
   "cell_type": "markdown",
   "id": "8ad00aa2",
   "metadata": {},
   "source": [
    "<h3><div class=\"alert alert-block alert-info\" id=\"section_0A\">\n",
    "A - IMPORTATIONS</div></h3>"
   ]
  },
  {
   "cell_type": "code",
   "execution_count": 1,
   "id": "76daf5da",
   "metadata": {},
   "outputs": [],
   "source": [
    "%matplotlib inline\n",
    "\n",
    "# Importation of Python modules and methods.\n",
    "import os\n",
    "import random\n",
    "import warnings\n",
    "from glob import glob\n",
    "\n",
    "# Importation of Machine Learning libraries.\n",
    "import matplotlib.pyplot as plt\n",
    "import numpy as np\n",
    "import pandas as pd\n",
    "import seaborn as sns\n",
    "\n",
    "# warnings.filterwarnings(\"ignore\")\n",
    "os.environ['TF_CPP_MIN_LOG_LEVEL']='2'  # Only warning and error information is displayed."
   ]
  },
  {
   "cell_type": "markdown",
   "id": "ac69d079",
   "metadata": {},
   "source": [
    "<h3><div class=\"alert alert-block alert-info\" id=\"section_0B\">\n",
    "B - DATA COLLECTION & DESCRIPTION - EDA</div></h3>"
   ]
  },
  {
   "cell_type": "code",
   "execution_count": 2,
   "id": "b465d832",
   "metadata": {},
   "outputs": [],
   "source": [
    "# Creation of pandas DataFrames with 9 Olist .csv files.\n",
    "df_clicks = pd.read_csv(\n",
    "    'datasets/clicks_sample.csv', sep=',', low_memory=False)\n",
    "df_articles = pd.read_csv(\n",
    "    'datasets/articles_metadata.csv', sep=',', low_memory=False)\n",
    "\n",
    "# Max display of rows and columns. \n",
    "pd.set_option('display.max_rows', 14000)\n",
    "pd.set_option('display.max_columns', 120)\n",
    "\n",
    "# Style for the plots.\n",
    "plt.style.use('fivethirtyeight')"
   ]
  },
  {
   "cell_type": "code",
   "execution_count": 3,
   "id": "f65df038",
   "metadata": {},
   "outputs": [
    {
     "name": "stdout",
     "output_type": "stream",
     "text": [
      "<class 'pandas.core.frame.DataFrame'>\n",
      "RangeIndex: 1883 entries, 0 to 1882\n",
      "Data columns (total 12 columns):\n",
      " #   Column               Non-Null Count  Dtype\n",
      "---  ------               --------------  -----\n",
      " 0   user_id              1883 non-null   int64\n",
      " 1   session_id           1883 non-null   int64\n",
      " 2   session_start        1883 non-null   int64\n",
      " 3   session_size         1883 non-null   int64\n",
      " 4   click_article_id     1883 non-null   int64\n",
      " 5   click_timestamp      1883 non-null   int64\n",
      " 6   click_environment    1883 non-null   int64\n",
      " 7   click_deviceGroup    1883 non-null   int64\n",
      " 8   click_os             1883 non-null   int64\n",
      " 9   click_country        1883 non-null   int64\n",
      " 10  click_region         1883 non-null   int64\n",
      " 11  click_referrer_type  1883 non-null   int64\n",
      "dtypes: int64(12)\n",
      "memory usage: 176.7 KB\n",
      "\u001b[1m\n",
      "The dataset df_clicks has 1883 observations and 12 variables.\u001b[0m\n"
     ]
    },
    {
     "data": {
      "text/html": [
       "<div>\n",
       "<style scoped>\n",
       "    .dataframe tbody tr th:only-of-type {\n",
       "        vertical-align: middle;\n",
       "    }\n",
       "\n",
       "    .dataframe tbody tr th {\n",
       "        vertical-align: top;\n",
       "    }\n",
       "\n",
       "    .dataframe thead th {\n",
       "        text-align: right;\n",
       "    }\n",
       "</style>\n",
       "<table border=\"1\" class=\"dataframe\">\n",
       "  <thead>\n",
       "    <tr style=\"text-align: right;\">\n",
       "      <th></th>\n",
       "      <th>user_id</th>\n",
       "      <th>session_id</th>\n",
       "      <th>session_start</th>\n",
       "      <th>session_size</th>\n",
       "      <th>click_article_id</th>\n",
       "      <th>click_timestamp</th>\n",
       "      <th>click_environment</th>\n",
       "      <th>click_deviceGroup</th>\n",
       "      <th>click_os</th>\n",
       "      <th>click_country</th>\n",
       "      <th>click_region</th>\n",
       "      <th>click_referrer_type</th>\n",
       "    </tr>\n",
       "  </thead>\n",
       "  <tbody>\n",
       "    <tr>\n",
       "      <th>1033</th>\n",
       "      <td>387</td>\n",
       "      <td>1506827722358124</td>\n",
       "      <td>1506827722000</td>\n",
       "      <td>3</td>\n",
       "      <td>236294</td>\n",
       "      <td>1506828148970</td>\n",
       "      <td>4</td>\n",
       "      <td>3</td>\n",
       "      <td>20</td>\n",
       "      <td>1</td>\n",
       "      <td>21</td>\n",
       "      <td>2</td>\n",
       "    </tr>\n",
       "    <tr>\n",
       "      <th>1167</th>\n",
       "      <td>441</td>\n",
       "      <td>1506827915198178</td>\n",
       "      <td>1506827915000</td>\n",
       "      <td>2</td>\n",
       "      <td>352227</td>\n",
       "      <td>1506828403779</td>\n",
       "      <td>4</td>\n",
       "      <td>1</td>\n",
       "      <td>17</td>\n",
       "      <td>1</td>\n",
       "      <td>13</td>\n",
       "      <td>1</td>\n",
       "    </tr>\n",
       "    <tr>\n",
       "      <th>1436</th>\n",
       "      <td>548</td>\n",
       "      <td>1506828327279285</td>\n",
       "      <td>1506828327000</td>\n",
       "      <td>2</td>\n",
       "      <td>96663</td>\n",
       "      <td>1506829844311</td>\n",
       "      <td>4</td>\n",
       "      <td>1</td>\n",
       "      <td>17</td>\n",
       "      <td>1</td>\n",
       "      <td>11</td>\n",
       "      <td>2</td>\n",
       "    </tr>\n",
       "    <tr>\n",
       "      <th>550</th>\n",
       "      <td>207</td>\n",
       "      <td>1506827009226944</td>\n",
       "      <td>1506827009000</td>\n",
       "      <td>2</td>\n",
       "      <td>119592</td>\n",
       "      <td>1506827322462</td>\n",
       "      <td>4</td>\n",
       "      <td>3</td>\n",
       "      <td>2</td>\n",
       "      <td>1</td>\n",
       "      <td>24</td>\n",
       "      <td>2</td>\n",
       "    </tr>\n",
       "    <tr>\n",
       "      <th>1405</th>\n",
       "      <td>535</td>\n",
       "      <td>1506828280134272</td>\n",
       "      <td>1506828280000</td>\n",
       "      <td>6</td>\n",
       "      <td>166553</td>\n",
       "      <td>1506830049003</td>\n",
       "      <td>4</td>\n",
       "      <td>3</td>\n",
       "      <td>20</td>\n",
       "      <td>1</td>\n",
       "      <td>25</td>\n",
       "      <td>1</td>\n",
       "    </tr>\n",
       "  </tbody>\n",
       "</table>\n",
       "</div>"
      ],
      "text/plain": [
       "      user_id        session_id  session_start  session_size  \\\n",
       "1033      387  1506827722358124  1506827722000             3   \n",
       "1167      441  1506827915198178  1506827915000             2   \n",
       "1436      548  1506828327279285  1506828327000             2   \n",
       "550       207  1506827009226944  1506827009000             2   \n",
       "1405      535  1506828280134272  1506828280000             6   \n",
       "\n",
       "      click_article_id  click_timestamp  click_environment  click_deviceGroup  \\\n",
       "1033            236294    1506828148970                  4                  3   \n",
       "1167            352227    1506828403779                  4                  1   \n",
       "1436             96663    1506829844311                  4                  1   \n",
       "550             119592    1506827322462                  4                  3   \n",
       "1405            166553    1506830049003                  4                  3   \n",
       "\n",
       "      click_os  click_country  click_region  click_referrer_type  \n",
       "1033        20              1            21                    2  \n",
       "1167        17              1            13                    1  \n",
       "1436        17              1            11                    2  \n",
       "550          2              1            24                    2  \n",
       "1405        20              1            25                    1  "
      ]
     },
     "execution_count": 3,
     "metadata": {},
     "output_type": "execute_result"
    }
   ],
   "source": [
    "# Information and shape about the df_clicks DataFrame.\n",
    "df_clicks.info(memory_usage='deep')\n",
    "print('\\033[1m' + f\"\\nThe dataset df_clicks has {df_clicks.shape[0]} \\\n",
    "observations and {df_clicks.shape[1]} variables.\" + '\\033[0m')\n",
    "# 5 samples of rows with all the columns.\n",
    "df_clicks.sample(5)"
   ]
  },
  {
   "cell_type": "code",
   "execution_count": 4,
   "id": "489d0bcf",
   "metadata": {},
   "outputs": [
    {
     "data": {
      "text/plain": [
       "user_id                0\n",
       "session_id             0\n",
       "session_start          0\n",
       "session_size           0\n",
       "click_article_id       0\n",
       "click_timestamp        0\n",
       "click_environment      0\n",
       "click_deviceGroup      0\n",
       "click_os               0\n",
       "click_country          0\n",
       "click_region           0\n",
       "click_referrer_type    0\n",
       "dtype: int64"
      ]
     },
     "execution_count": 4,
     "metadata": {},
     "output_type": "execute_result"
    }
   ],
   "source": [
    "# Number of missing values by column.\n",
    "df_clicks.isna().sum()"
   ]
  },
  {
   "cell_type": "code",
   "execution_count": 5,
   "id": "130694a5",
   "metadata": {},
   "outputs": [
    {
     "name": "stdout",
     "output_type": "stream",
     "text": [
      "\u001b[1mNumber of missing values in the df_clicks dataframe: 0\u001b[0m\n"
     ]
    }
   ],
   "source": [
    "print('\\033[1m' + f\"Number of missing values in the df_clicks dataframe: \\\n",
    "{df_clicks.isna().sum().sum()}\" + '\\033[0m')"
   ]
  },
  {
   "cell_type": "code",
   "execution_count": 6,
   "id": "dbcf3167",
   "metadata": {},
   "outputs": [],
   "source": [
    "# Function to calculate the number of unique values for each columns of a dataframe.\n",
    "def unique_values(df, col_list):\n",
    "    \"\"\"Function to generate the unique values of each column of a dataframe.\"\"\"\n",
    "    for col in col_list:\n",
    "        col_unique_values = df[col].nunique()\n",
    "        print(f\"Number of unique {col}: {col_unique_values}\")"
   ]
  },
  {
   "cell_type": "code",
   "execution_count": 7,
   "id": "10ee98d9",
   "metadata": {},
   "outputs": [
    {
     "name": "stdout",
     "output_type": "stream",
     "text": [
      "Number of unique user_id: 707\n",
      "Number of unique session_id: 707\n",
      "Number of unique session_start: 619\n",
      "Number of unique session_size: 11\n",
      "Number of unique click_article_id: 323\n",
      "Number of unique click_timestamp: 1883\n",
      "Number of unique click_environment: 3\n",
      "Number of unique click_deviceGroup: 3\n",
      "Number of unique click_os: 6\n",
      "Number of unique click_country: 7\n",
      "Number of unique click_region: 26\n",
      "Number of unique click_referrer_type: 6\n"
     ]
    }
   ],
   "source": [
    "# Number of unique values for each columns of df_clicks. \n",
    "cols = df_clicks.columns.tolist()\n",
    "unique_values(df_clicks, cols)"
   ]
  },
  {
   "cell_type": "code",
   "execution_count": 8,
   "id": "604cd0c7",
   "metadata": {},
   "outputs": [
    {
     "name": "stdout",
     "output_type": "stream",
     "text": [
      "<class 'pandas.core.frame.DataFrame'>\n",
      "RangeIndex: 364047 entries, 0 to 364046\n",
      "Data columns (total 5 columns):\n",
      " #   Column         Non-Null Count   Dtype\n",
      "---  ------         --------------   -----\n",
      " 0   article_id     364047 non-null  int64\n",
      " 1   category_id    364047 non-null  int64\n",
      " 2   created_at_ts  364047 non-null  int64\n",
      " 3   publisher_id   364047 non-null  int64\n",
      " 4   words_count    364047 non-null  int64\n",
      "dtypes: int64(5)\n",
      "memory usage: 13.9 MB\n",
      "\u001b[1m\n",
      "The dataset df_articles has 364047 observations and 5 variables.\u001b[0m\n"
     ]
    },
    {
     "data": {
      "text/html": [
       "<div>\n",
       "<style scoped>\n",
       "    .dataframe tbody tr th:only-of-type {\n",
       "        vertical-align: middle;\n",
       "    }\n",
       "\n",
       "    .dataframe tbody tr th {\n",
       "        vertical-align: top;\n",
       "    }\n",
       "\n",
       "    .dataframe thead th {\n",
       "        text-align: right;\n",
       "    }\n",
       "</style>\n",
       "<table border=\"1\" class=\"dataframe\">\n",
       "  <thead>\n",
       "    <tr style=\"text-align: right;\">\n",
       "      <th></th>\n",
       "      <th>article_id</th>\n",
       "      <th>category_id</th>\n",
       "      <th>created_at_ts</th>\n",
       "      <th>publisher_id</th>\n",
       "      <th>words_count</th>\n",
       "    </tr>\n",
       "  </thead>\n",
       "  <tbody>\n",
       "    <tr>\n",
       "      <th>213819</th>\n",
       "      <td>213819</td>\n",
       "      <td>348</td>\n",
       "      <td>1477310928000</td>\n",
       "      <td>0</td>\n",
       "      <td>171</td>\n",
       "    </tr>\n",
       "    <tr>\n",
       "      <th>334666</th>\n",
       "      <td>334666</td>\n",
       "      <td>437</td>\n",
       "      <td>1436378312000</td>\n",
       "      <td>0</td>\n",
       "      <td>203</td>\n",
       "    </tr>\n",
       "    <tr>\n",
       "      <th>160046</th>\n",
       "      <td>160046</td>\n",
       "      <td>281</td>\n",
       "      <td>1489498612000</td>\n",
       "      <td>0</td>\n",
       "      <td>263</td>\n",
       "    </tr>\n",
       "    <tr>\n",
       "      <th>349990</th>\n",
       "      <td>349990</td>\n",
       "      <td>442</td>\n",
       "      <td>1447692322000</td>\n",
       "      <td>0</td>\n",
       "      <td>162</td>\n",
       "    </tr>\n",
       "    <tr>\n",
       "      <th>340920</th>\n",
       "      <td>340920</td>\n",
       "      <td>438</td>\n",
       "      <td>1516890160000</td>\n",
       "      <td>0</td>\n",
       "      <td>180</td>\n",
       "    </tr>\n",
       "  </tbody>\n",
       "</table>\n",
       "</div>"
      ],
      "text/plain": [
       "        article_id  category_id  created_at_ts  publisher_id  words_count\n",
       "213819      213819          348  1477310928000             0          171\n",
       "334666      334666          437  1436378312000             0          203\n",
       "160046      160046          281  1489498612000             0          263\n",
       "349990      349990          442  1447692322000             0          162\n",
       "340920      340920          438  1516890160000             0          180"
      ]
     },
     "execution_count": 8,
     "metadata": {},
     "output_type": "execute_result"
    }
   ],
   "source": [
    "# Information and shape about the df_articles DataFrame.\n",
    "df_articles.info(memory_usage='deep')\n",
    "print('\\033[1m' + f\"\\nThe dataset df_articles has {df_articles.shape[0]} \\\n",
    "observations and {df_articles.shape[1]} variables.\" + '\\033[0m')\n",
    "# 5 samples of rows with all the columns.\n",
    "df_articles.sample(5)"
   ]
  },
  {
   "cell_type": "code",
   "execution_count": 9,
   "id": "9f52ef72",
   "metadata": {},
   "outputs": [
    {
     "data": {
      "text/plain": [
       "article_id       0\n",
       "category_id      0\n",
       "created_at_ts    0\n",
       "publisher_id     0\n",
       "words_count      0\n",
       "dtype: int64"
      ]
     },
     "execution_count": 9,
     "metadata": {},
     "output_type": "execute_result"
    }
   ],
   "source": [
    "# Number of missing values by column.\n",
    "df_articles.isna().sum()"
   ]
  },
  {
   "cell_type": "code",
   "execution_count": 10,
   "id": "38acdc93",
   "metadata": {},
   "outputs": [
    {
     "name": "stdout",
     "output_type": "stream",
     "text": [
      "\u001b[1mNumber of missing values in the df_articles dataframe: 0\u001b[0m\n"
     ]
    }
   ],
   "source": [
    "print('\\033[1m' + f\"Number of missing values in the df_articles dataframe: \\\n",
    "{df_articles.isna().sum().sum()}\" + '\\033[0m')"
   ]
  },
  {
   "cell_type": "code",
   "execution_count": 11,
   "id": "740cbac8",
   "metadata": {},
   "outputs": [
    {
     "name": "stdout",
     "output_type": "stream",
     "text": [
      "Number of unique article_id: 364047\n",
      "Number of unique category_id: 461\n",
      "Number of unique created_at_ts: 359552\n",
      "Number of unique publisher_id: 1\n",
      "Number of unique words_count: 866\n"
     ]
    }
   ],
   "source": [
    "# Number of unique values for each columns of df_articles. \n",
    "cols = df_articles.columns.tolist()\n",
    "unique_values(df_articles, cols)"
   ]
  },
  {
   "cell_type": "code",
   "execution_count": 12,
   "id": "9c6f502d",
   "metadata": {},
   "outputs": [],
   "source": [
    "df_clicks_hour = pd.read_csv(\n",
    "    'datasets/clicks/clicks_hour_000.csv', sep=',', low_memory=False)"
   ]
  },
  {
   "cell_type": "code",
   "execution_count": 13,
   "id": "c67e0d68",
   "metadata": {},
   "outputs": [
    {
     "name": "stdout",
     "output_type": "stream",
     "text": [
      "<class 'pandas.core.frame.DataFrame'>\n",
      "RangeIndex: 1883 entries, 0 to 1882\n",
      "Data columns (total 12 columns):\n",
      " #   Column               Non-Null Count  Dtype\n",
      "---  ------               --------------  -----\n",
      " 0   user_id              1883 non-null   int64\n",
      " 1   session_id           1883 non-null   int64\n",
      " 2   session_start        1883 non-null   int64\n",
      " 3   session_size         1883 non-null   int64\n",
      " 4   click_article_id     1883 non-null   int64\n",
      " 5   click_timestamp      1883 non-null   int64\n",
      " 6   click_environment    1883 non-null   int64\n",
      " 7   click_deviceGroup    1883 non-null   int64\n",
      " 8   click_os             1883 non-null   int64\n",
      " 9   click_country        1883 non-null   int64\n",
      " 10  click_region         1883 non-null   int64\n",
      " 11  click_referrer_type  1883 non-null   int64\n",
      "dtypes: int64(12)\n",
      "memory usage: 176.7 KB\n",
      "\u001b[1m\n",
      "The dataset df_clicks_hour has 1883 observations and 12 variables.\u001b[0m\n"
     ]
    },
    {
     "data": {
      "text/html": [
       "<div>\n",
       "<style scoped>\n",
       "    .dataframe tbody tr th:only-of-type {\n",
       "        vertical-align: middle;\n",
       "    }\n",
       "\n",
       "    .dataframe tbody tr th {\n",
       "        vertical-align: top;\n",
       "    }\n",
       "\n",
       "    .dataframe thead th {\n",
       "        text-align: right;\n",
       "    }\n",
       "</style>\n",
       "<table border=\"1\" class=\"dataframe\">\n",
       "  <thead>\n",
       "    <tr style=\"text-align: right;\">\n",
       "      <th></th>\n",
       "      <th>user_id</th>\n",
       "      <th>session_id</th>\n",
       "      <th>session_start</th>\n",
       "      <th>session_size</th>\n",
       "      <th>click_article_id</th>\n",
       "      <th>click_timestamp</th>\n",
       "      <th>click_environment</th>\n",
       "      <th>click_deviceGroup</th>\n",
       "      <th>click_os</th>\n",
       "      <th>click_country</th>\n",
       "      <th>click_region</th>\n",
       "      <th>click_referrer_type</th>\n",
       "    </tr>\n",
       "  </thead>\n",
       "  <tbody>\n",
       "    <tr>\n",
       "      <th>1165</th>\n",
       "      <td>440</td>\n",
       "      <td>1506827912178177</td>\n",
       "      <td>1506827912000</td>\n",
       "      <td>2</td>\n",
       "      <td>157541</td>\n",
       "      <td>1506828086629</td>\n",
       "      <td>4</td>\n",
       "      <td>3</td>\n",
       "      <td>20</td>\n",
       "      <td>1</td>\n",
       "      <td>16</td>\n",
       "      <td>2</td>\n",
       "    </tr>\n",
       "    <tr>\n",
       "      <th>278</th>\n",
       "      <td>104</td>\n",
       "      <td>1506826610425841</td>\n",
       "      <td>1506826610000</td>\n",
       "      <td>2</td>\n",
       "      <td>119592</td>\n",
       "      <td>1506826880126</td>\n",
       "      <td>4</td>\n",
       "      <td>3</td>\n",
       "      <td>2</td>\n",
       "      <td>1</td>\n",
       "      <td>5</td>\n",
       "      <td>1</td>\n",
       "    </tr>\n",
       "    <tr>\n",
       "      <th>1360</th>\n",
       "      <td>519</td>\n",
       "      <td>1506828192313256</td>\n",
       "      <td>1506828192000</td>\n",
       "      <td>7</td>\n",
       "      <td>119592</td>\n",
       "      <td>1506828255299</td>\n",
       "      <td>4</td>\n",
       "      <td>1</td>\n",
       "      <td>17</td>\n",
       "      <td>1</td>\n",
       "      <td>25</td>\n",
       "      <td>1</td>\n",
       "    </tr>\n",
       "    <tr>\n",
       "      <th>939</th>\n",
       "      <td>352</td>\n",
       "      <td>1506827610314089</td>\n",
       "      <td>1506827610000</td>\n",
       "      <td>2</td>\n",
       "      <td>235840</td>\n",
       "      <td>1506827647320</td>\n",
       "      <td>4</td>\n",
       "      <td>1</td>\n",
       "      <td>17</td>\n",
       "      <td>1</td>\n",
       "      <td>26</td>\n",
       "      <td>2</td>\n",
       "    </tr>\n",
       "    <tr>\n",
       "      <th>257</th>\n",
       "      <td>98</td>\n",
       "      <td>1506826586405835</td>\n",
       "      <td>1506826586000</td>\n",
       "      <td>3</td>\n",
       "      <td>159359</td>\n",
       "      <td>1506827028195</td>\n",
       "      <td>4</td>\n",
       "      <td>3</td>\n",
       "      <td>2</td>\n",
       "      <td>1</td>\n",
       "      <td>21</td>\n",
       "      <td>1</td>\n",
       "    </tr>\n",
       "  </tbody>\n",
       "</table>\n",
       "</div>"
      ],
      "text/plain": [
       "      user_id        session_id  session_start  session_size  \\\n",
       "1165      440  1506827912178177  1506827912000             2   \n",
       "278       104  1506826610425841  1506826610000             2   \n",
       "1360      519  1506828192313256  1506828192000             7   \n",
       "939       352  1506827610314089  1506827610000             2   \n",
       "257        98  1506826586405835  1506826586000             3   \n",
       "\n",
       "      click_article_id  click_timestamp  click_environment  click_deviceGroup  \\\n",
       "1165            157541    1506828086629                  4                  3   \n",
       "278             119592    1506826880126                  4                  3   \n",
       "1360            119592    1506828255299                  4                  1   \n",
       "939             235840    1506827647320                  4                  1   \n",
       "257             159359    1506827028195                  4                  3   \n",
       "\n",
       "      click_os  click_country  click_region  click_referrer_type  \n",
       "1165        20              1            16                    2  \n",
       "278          2              1             5                    1  \n",
       "1360        17              1            25                    1  \n",
       "939         17              1            26                    2  \n",
       "257          2              1            21                    1  "
      ]
     },
     "execution_count": 13,
     "metadata": {},
     "output_type": "execute_result"
    }
   ],
   "source": [
    "# Information and shape about the df_clicks DataFrame.\n",
    "df_clicks_hour.info(memory_usage='deep')\n",
    "print('\\033[1m' + f\"\\nThe dataset df_clicks_hour has {df_clicks_hour.shape[0]} \\\n",
    "observations and {df_clicks_hour.shape[1]} variables.\" + '\\033[0m')\n",
    "# 5 samples of rows with all the columns.\n",
    "df_clicks_hour.sample(5)"
   ]
  },
  {
   "cell_type": "code",
   "execution_count": 14,
   "id": "d248ab33",
   "metadata": {},
   "outputs": [
    {
     "name": "stdout",
     "output_type": "stream",
     "text": [
      "\u001b[1mNumber of missing values in the df_clicks_hour dataframe: 0\u001b[0m\n"
     ]
    }
   ],
   "source": [
    "print('\\033[1m' + f\"Number of missing values in the df_clicks_hour dataframe: \\\n",
    "{df_clicks_hour.isna().sum().sum()}\" + '\\033[0m')"
   ]
  },
  {
   "cell_type": "code",
   "execution_count": 15,
   "id": "598cd4d9",
   "metadata": {},
   "outputs": [
    {
     "name": "stdout",
     "output_type": "stream",
     "text": [
      "Number of unique user_id: 707\n",
      "Number of unique session_id: 707\n",
      "Number of unique session_start: 619\n",
      "Number of unique session_size: 11\n",
      "Number of unique click_article_id: 323\n",
      "Number of unique click_timestamp: 1883\n",
      "Number of unique click_environment: 3\n",
      "Number of unique click_deviceGroup: 3\n",
      "Number of unique click_os: 6\n",
      "Number of unique click_country: 7\n",
      "Number of unique click_region: 26\n",
      "Number of unique click_referrer_type: 6\n"
     ]
    }
   ],
   "source": [
    "# Number of unique values for each columns of df_clicks_hour. \n",
    "cols = df_clicks_hour.columns.tolist()\n",
    "unique_values(df_clicks_hour, cols)"
   ]
  },
  {
   "cell_type": "code",
   "execution_count": 16,
   "id": "132460eb",
   "metadata": {},
   "outputs": [],
   "source": [
    "# # Number of order(s) by 'customer_unique_id'.\n",
    "# print('\\033[1m' + \"Number of order(s) by 'customer_unique_id':\" +'\\033[0m')\n",
    "# df_customers.groupby(\"customer_unique_id\").size().unique()"
   ]
  },
  {
   "cell_type": "code",
   "execution_count": 17,
   "id": "31495f4f",
   "metadata": {},
   "outputs": [],
   "source": [
    "# # Top 20 of the city from where customers buy. \n",
    "# top_20_city_customers = df_customers.groupby(\n",
    "#     ['customer_city'])['customer_unique_id'].count().sort_values(ascending=False)[:20]\n",
    "\n",
    "# # Bar plotting the top 20 customers city.\n",
    "# fig=plt.figure(figsize=(16,9))\n",
    "# sns.barplot(y=top_20_city_customers.index, x=top_20_city_customers.values)\n",
    "# plt.title('Top 20 City with most Customers', pad=15, fontsize=24)\n",
    "# plt.xlabel('Number of customers', fontsize=20)\n",
    "# plt.ylabel('City', fontsize=20)"
   ]
  },
  {
   "cell_type": "markdown",
   "id": "eff2bdfc",
   "metadata": {},
   "source": [
    "<h3><div class=\"alert alert-block alert-info\" id=\"section_0C\">\n",
    "C - PERFORMANCE METRICS</div></h3>"
   ]
  },
  {
   "cell_type": "markdown",
   "id": "9f15443a",
   "metadata": {},
   "source": [
    "<b>To evaluate the performance of the Deep Learning models</b> we are going to build for <b>Semantic Segmentation</b>, we will use 2 different metrics, both quite similar."
   ]
  },
  {
   "cell_type": "markdown",
   "id": "cf391659",
   "metadata": {},
   "source": [
    "Our prediction output shape, the mask, matches the input's spatial resolution (width and height) with a channel depth equivalent to the number of possible classes to be predicted. Each channel consists of a binary mask which labels areas where a specific class is present."
   ]
  },
  {
   "cell_type": "markdown",
   "id": "0abbf224",
   "metadata": {},
   "source": [
    "<b>Accuracy is here irrelevant</b>. Pixel accuracy can provide misleading results when the class representation is small within the image, as the measure will be biased in mainly reporting how well you identify negative case (ie. where the class is not present)."
   ]
  },
  {
   "cell_type": "markdown",
   "id": "80b8801d",
   "metadata": {},
   "source": [
    "Instead, we will use here the <b>IoU and the Dice Coefficient</b> that suit more for semantic segmentation."
   ]
  },
  {
   "cell_type": "markdown",
   "id": "d6cb199b",
   "metadata": {},
   "source": [
    "<h2><div class=\"alert alert-block alert-success\" id=\"section_1\">\n",
    "PART 1 - DATA PREPARATION</div></h2>"
   ]
  },
  {
   "cell_type": "markdown",
   "id": "8dc2a9de",
   "metadata": {},
   "source": [
    "<h3><div class=\"alert alert-block alert-info\" id=\"section_1A\">\n",
    "A - DATA AUGMENTATION</div></h3>"
   ]
  },
  {
   "cell_type": "markdown",
   "id": "21945e5f",
   "metadata": {},
   "source": [
    "<h2><div class=\"alert alert-block alert-success\" id=\"section_00\">\n",
    "CONCLUSION</div></h2>"
   ]
  },
  {
   "cell_type": "markdown",
   "id": "a18ddb68",
   "metadata": {},
   "source": [
    "<img src=\"my_content.png\" width=\"250\" height=\"250\">"
   ]
  }
 ],
 "metadata": {
  "kernelspec": {
   "display_name": "Python 3 (ipykernel)",
   "language": "python",
   "name": "python3"
  },
  "language_info": {
   "codemirror_mode": {
    "name": "ipython",
    "version": 3
   },
   "file_extension": ".py",
   "mimetype": "text/x-python",
   "name": "python",
   "nbconvert_exporter": "python",
   "pygments_lexer": "ipython3",
   "version": "3.10.9"
  }
 },
 "nbformat": 4,
 "nbformat_minor": 5
}
